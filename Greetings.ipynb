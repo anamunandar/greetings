{
 "cells": [
  {
   "cell_type": "code",
   "execution_count": null,
   "id": "d749198a-f566-4ea2-9962-7de579b4c3aa",
   "metadata": {
    "tags": []
   },
   "outputs": [],
   "source": [
    "print('Hi, what is your name?')\n",
    "\n",
    "user_name = input()\n",
    "print('Thank you for visiting my site, '+ user_name)"
   ]
  },
  {
   "cell_type": "code",
   "execution_count": null,
   "id": "84d9b8e3-e774-4bc4-bbe6-e6f2f43304fe",
   "metadata": {},
   "outputs": [],
   "source": []
  }
 ],
 "metadata": {
  "kernelspec": {
   "display_name": "Python 3 (ipykernel)",
   "language": "python",
   "name": "python3"
  },
  "language_info": {
   "codemirror_mode": {
    "name": "ipython",
    "version": 3
   },
   "file_extension": ".py",
   "mimetype": "text/x-python",
   "name": "python",
   "nbconvert_exporter": "python",
   "pygments_lexer": "ipython3",
   "version": "3.10.6"
  }
 },
 "nbformat": 4,
 "nbformat_minor": 5
}
