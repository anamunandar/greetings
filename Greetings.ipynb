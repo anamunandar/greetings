{
 "cells": [
  {
   "cell_type": "code",
   "execution_count": 3,
   "id": "d749198a-f566-4ea2-9962-7de579b4c3aa",
   "metadata": {
    "execution": {
     "iopub.execute_input": "2024-03-11T05:12:10.498377Z",
     "iopub.status.busy": "2024-03-11T05:12:10.498035Z",
     "iopub.status.idle": "2024-03-11T05:12:12.583235Z",
     "shell.execute_reply": "2024-03-11T05:12:12.582588Z",
     "shell.execute_reply.started": "2024-03-11T05:12:10.498353Z"
    },
    "tags": []
   },
   "outputs": [
    {
     "name": "stdout",
     "output_type": "stream",
     "text": [
      "Hi, what is your name?\n"
     ]
    },
    {
     "name": "stdin",
     "output_type": "stream",
     "text": [
      " Ana\n"
     ]
    },
    {
     "name": "stdout",
     "output_type": "stream",
     "text": [
      "Thank you for visiting my site, Ana\n"
     ]
    }
   ],
   "source": [
    "print('Hi, what is your name?')\n",
    "\n",
    "user_name = input()\n",
    "print('Thank you for visiting my site, '+ user_name)"
   ]
  }
 ],
 "metadata": {
  "kernelspec": {
   "display_name": "Python 3 (ipykernel)",
   "language": "python",
   "name": "python3"
  },
  "language_info": {
   "codemirror_mode": {
    "name": "ipython",
    "version": 3
   },
   "file_extension": ".py",
   "mimetype": "text/x-python",
   "name": "python",
   "nbconvert_exporter": "python",
   "pygments_lexer": "ipython3",
   "version": "3.10.6"
  }
 },
 "nbformat": 4,
 "nbformat_minor": 5
}
